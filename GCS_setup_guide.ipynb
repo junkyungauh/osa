{
  "nbformat": 4,
  "nbformat_minor": 0,
  "metadata": {
    "colab": {
      "provenance": [],
      "include_colab_link": true
    },
    "kernelspec": {
      "name": "python3",
      "display_name": "Python 3"
    },
    "language_info": {
      "name": "python"
    }
  },
  "cells": [
    {
      "cell_type": "markdown",
      "metadata": {
        "id": "view-in-github",
        "colab_type": "text"
      },
      "source": [
        "<a href=\"https://colab.research.google.com/github/junkyungauh/osa/blob/master/GCS_setup_guide.ipynb\" target=\"_parent\"><img src=\"https://colab.research.google.com/assets/colab-badge.svg\" alt=\"Open In Colab\"/></a>"
      ]
    },
    {
      "cell_type": "markdown",
      "source": [
        "Use [Cloud Storage FUSE](https://cloud.google.com/storage/docs/cloud-storage-fuse/overview) to mount a Cloud Storage location to access it directly as a local filesystem path."
      ],
      "metadata": {
        "id": "41Er4y_owSI_"
      }
    },
    {
      "cell_type": "code",
      "execution_count": 1,
      "metadata": {
        "id": "sei_U0hivltD",
        "colab": {
          "base_uri": "https://localhost:8080/"
        },
        "outputId": "39c1331f-2b69-4c9d-ee4c-7217e3298726"
      },
      "outputs": [
        {
          "output_type": "stream",
          "name": "stdout",
          "text": [
            "deb https://packages.cloud.google.com/apt gcsfuse-jammy main\n",
            "  % Total    % Received % Xferd  Average Speed   Time    Time     Time  Current\n",
            "                                 Dload  Upload   Total   Spent    Left  Speed\n",
            "100  1022  100  1022    0     0   8148      0 --:--:-- --:--:-- --:--:--  8176\n",
            "Warning: apt-key is deprecated. Manage keyring files in trusted.gpg.d instead (see apt-key(8)).\n",
            "OK\n",
            "52 packages can be upgraded. Run 'apt list --upgradable' to see them.\n",
            "\u001b[1;33mW: \u001b[0mhttps://packages.cloud.google.com/apt/dists/gcsfuse-jammy/InRelease: Key is stored in legacy trusted.gpg keyring (/etc/apt/trusted.gpg), see the DEPRECATION section in apt-key(8) for details.\u001b[0m\n",
            "\u001b[1;33mW: \u001b[0mSkipping acquire of configured file 'main/source/Sources' as repository 'https://r2u.stat.illinois.edu/ubuntu jammy InRelease' does not seem to provide it (sources.list entry misspelt?)\u001b[0m\n",
            "The following NEW packages will be installed:\n",
            "  gcsfuse\n",
            "0 upgraded, 1 newly installed, 0 to remove and 52 not upgraded.\n",
            "Need to get 14.6 MB of archives.\n",
            "After this operation, 0 B of additional disk space will be used.\n",
            "Selecting previously unselected package gcsfuse.\n",
            "(Reading database ... 124574 files and directories currently installed.)\n",
            "Preparing to unpack .../gcsfuse_2.8.0_amd64.deb ...\n",
            "Unpacking gcsfuse (2.8.0) ...\n",
            "Setting up gcsfuse (2.8.0) ...\n"
          ]
        }
      ],
      "source": [
        "# Authenticate.\n",
        "from google.colab import auth\n",
        "auth.authenticate_user()\n",
        "\n",
        "# Install Cloud Storage FUSE.\n",
        "!echo \"deb https://packages.cloud.google.com/apt gcsfuse-`lsb_release -c -s` main\" | sudo tee /etc/apt/sources.list.d/gcsfuse.list\n",
        "!curl https://packages.cloud.google.com/apt/doc/apt-key.gpg | sudo apt-key add -\n",
        "!apt -qq update && apt -qq install gcsfuse"
      ]
    },
    {
      "cell_type": "markdown",
      "source": [
        "Mount a Cloud Storage bucket or location"
      ],
      "metadata": {
        "id": "0-6OFsIr44xd"
      }
    },
    {
      "cell_type": "code",
      "source": [
        "# Sample code\n",
        "# No need to specify project that a bucket is in; bucket name is sufficient.\n",
        "mount_path = \"my-bucket\"  # or a location like \"my-bucket/path/to/mount\"\n",
        "local_path = f\"/mnt/gs/{mount_path}\"\n",
        "\n",
        "!mkdir -p {local_path}\n",
        "!gcsfuse --implicit-dirs {mount_path} {local_path}"
      ],
      "metadata": {
        "id": "n0sNCjZ24Ruh",
        "colab": {
          "base_uri": "https://localhost:8080/"
        },
        "outputId": "ba4625c0-456f-4ef1-e2a7-f78e9e596c7f"
      },
      "execution_count": 2,
      "outputs": [
        {
          "output_type": "stream",
          "name": "stdout",
          "text": [
            "{\"timestamp\":{\"seconds\":1737942139,\"nanos\":556544873},\"severity\":\"INFO\",\"message\":\"Start gcsfuse/2.8.0 (Go version go1.23.4) for app \\\"\\\" using mount point: /mnt/gs/my-bucket\\n\"}\n",
            "{\"timestamp\":{\"seconds\":1737942139,\"nanos\":556600637},\"severity\":\"INFO\",\"message\":\"GCSFuse config\",\"config\":{\"AppName\":\"\",\"CacheDir\":\"\",\"Debug\":{\"ExitOnInvariantViolation\":false,\"Fuse\":false,\"Gcs\":false,\"LogMutex\":false},\"EnableAtomicRenameObject\":false,\"EnableHns\":true,\"FileCache\":{\"CacheFileForRangeRead\":false,\"DownloadChunkSizeMb\":50,\"EnableCrc\":false,\"EnableODirect\":false,\"EnableParallelDownloads\":false,\"MaxParallelDownloads\":16,\"MaxSizeMb\":-1,\"ParallelDownloadsPerFile\":16,\"WriteBufferSize\":4194304},\"FileSystem\":{\"DirMode\":\"755\",\"DisableParallelDirops\":false,\"FileMode\":\"644\",\"FuseOptions\":[],\"Gid\":-1,\"HandleSigterm\":true,\"IgnoreInterrupts\":true,\"KernelListCacheTtlSecs\":0,\"PreconditionErrors\":true,\"RenameDirLimit\":0,\"TempDir\":\"\",\"Uid\":-1},\"Foreground\":false,\"GcsAuth\":{\"AnonymousAccess\":false,\"KeyFile\":\"\",\"ReuseTokenFromUrl\":true,\"TokenUrl\":\"\"},\"GcsConnection\":{\"BillingProject\":\"\",\"ClientProtocol\":\"http1\",\"CustomEndpoint\":\"\",\"ExperimentalEnableJsonRead\":false,\"GrpcConnPoolSize\":1,\"HttpClientTimeout\":0,\"LimitBytesPerSec\":-1,\"LimitOpsPerSec\":-1,\"MaxConnsPerHost\":0,\"MaxIdleConnsPerHost\":100,\"SequentialReadSizeMb\":200},\"GcsRetries\":{\"ChunkTransferTimeoutSecs\":10,\"MaxRetryAttempts\":0,\"MaxRetrySleep\":30000000000,\"Multiplier\":2,\"ReadStall\":{\"Enable\":false,\"InitialReqTimeout\":20000000000,\"MaxReqTimeout\":1200000000000,\"MinReqTimeout\":1500000000,\"ReqIncreaseRate\":15,\"ReqTargetPercentile\":0.99}},\"ImplicitDirs\":true,\"List\":{\"EnableEmptyManagedFolders\":false},\"Logging\":{\"FilePath\":\"\",\"Format\":\"json\",\"LogRotate\":{\"BackupFileCount\":10,\"Compress\":true,\"MaxFileSizeMb\":512},\"Severity\":\"INFO\"},\"MetadataCache\":{\"DeprecatedStatCacheCapacity\":20460,\"DeprecatedStatCacheTtl\":60000000000,\"DeprecatedTypeCacheTtl\":60000000000,\"EnableNonexistentTypeCache\":false,\"ExperimentalMetadataPrefetchOnMount\":\"disabled\",\"NegativeTtlSecs\":5,\"StatCacheMaxSizeMb\":32,\"TtlSecs\":60,\"TypeCacheMaxSizeMb\":4},\"Metrics\":{\"CloudMetricsExportIntervalSecs\":0,\"EnableOtel\":false,\"PrometheusPort\":0,\"StackdriverExportInterval\":0},\"Monitoring\":{\"ExperimentalOpentelemetryCollectorAddress\":\"\",\"ExperimentalTracingMode\":\"\",\"ExperimentalTracingSamplingRatio\":0},\"OnlyDir\":\"\",\"Write\":{\"BlockSizeMb\":67108864,\"CreateEmptyFile\":false,\"EnableStreamingWrites\":false,\"GlobalMaxBlocks\":9223372036854775807,\"MaxBlocksPerFile\":9223372036854775807}}}\n",
            "Error: daemonize.Run: readFromProcess: sub-process: Error while mounting gcsfuse: mountWithArgs: mountWithStorageHandle: fs.NewServer: create file system: SetUpBucket: error in iterating through objects: googleapi: Error 403: junkyung.auh@gmail.com does not have storage.objects.list access to the Google Cloud Storage bucket. Permission 'storage.objects.list' denied on resource (or it may not exist)., forbidden\n",
            "{\"timestamp\":{\"seconds\":1737942140,\"nanos\":980212900},\"severity\":\"INFO\",\"message\":\"2025/01/27 01:42:20.980137 Error occurred during command execution: daemonize.Run: readFromProcess: sub-process: Error while mounting gcsfuse: mountWithArgs: mountWithStorageHandle: fs.NewServer: create file system: SetUpBucket: error in iterating through objects: googleapi: Error 403: junkyung.auh@gmail.com does not have storage.objects.list access to the Google Cloud Storage bucket. Permission 'storage.objects.list' denied on resource (or it may not exist)., forbidden\"}\n"
          ]
        }
      ]
    },
    {
      "cell_type": "code",
      "source": [
        "# Mounting buckets in 'OSA Prediction' project\n",
        "buckets_to_mount = [\"osa_raw-data\", \"osa_processed-data\"]\n",
        "mount_path = \"/mnt/gs\"\n",
        "\n",
        "for bucket in buckets_to_mount:\n",
        "  local_path = f\"{mount_path}/{bucket}\"\n",
        "  !mkdir -p {local_path}\n",
        "  !gcsfuse --implicit-dirs {bucket} {local_path}"
      ],
      "metadata": {
        "colab": {
          "base_uri": "https://localhost:8080/"
        },
        "id": "5wllzXmnwveU",
        "outputId": "a1fa656a-0bb1-4605-9754-15c89a8288e1"
      },
      "execution_count": 3,
      "outputs": [
        {
          "output_type": "stream",
          "name": "stdout",
          "text": [
            "{\"timestamp\":{\"seconds\":1737942153,\"nanos\":7223024},\"severity\":\"INFO\",\"message\":\"Start gcsfuse/2.8.0 (Go version go1.23.4) for app \\\"\\\" using mount point: /mnt/gs/osa_raw-data\\n\"}\n",
            "{\"timestamp\":{\"seconds\":1737942153,\"nanos\":7309809},\"severity\":\"INFO\",\"message\":\"GCSFuse config\",\"config\":{\"AppName\":\"\",\"CacheDir\":\"\",\"Debug\":{\"ExitOnInvariantViolation\":false,\"Fuse\":false,\"Gcs\":false,\"LogMutex\":false},\"EnableAtomicRenameObject\":false,\"EnableHns\":true,\"FileCache\":{\"CacheFileForRangeRead\":false,\"DownloadChunkSizeMb\":50,\"EnableCrc\":false,\"EnableODirect\":false,\"EnableParallelDownloads\":false,\"MaxParallelDownloads\":16,\"MaxSizeMb\":-1,\"ParallelDownloadsPerFile\":16,\"WriteBufferSize\":4194304},\"FileSystem\":{\"DirMode\":\"755\",\"DisableParallelDirops\":false,\"FileMode\":\"644\",\"FuseOptions\":[],\"Gid\":-1,\"HandleSigterm\":true,\"IgnoreInterrupts\":true,\"KernelListCacheTtlSecs\":0,\"PreconditionErrors\":true,\"RenameDirLimit\":0,\"TempDir\":\"\",\"Uid\":-1},\"Foreground\":false,\"GcsAuth\":{\"AnonymousAccess\":false,\"KeyFile\":\"\",\"ReuseTokenFromUrl\":true,\"TokenUrl\":\"\"},\"GcsConnection\":{\"BillingProject\":\"\",\"ClientProtocol\":\"http1\",\"CustomEndpoint\":\"\",\"ExperimentalEnableJsonRead\":false,\"GrpcConnPoolSize\":1,\"HttpClientTimeout\":0,\"LimitBytesPerSec\":-1,\"LimitOpsPerSec\":-1,\"MaxConnsPerHost\":0,\"MaxIdleConnsPerHost\":100,\"SequentialReadSizeMb\":200},\"GcsRetries\":{\"ChunkTransferTimeoutSecs\":10,\"MaxRetryAttempts\":0,\"MaxRetrySleep\":30000000000,\"Multiplier\":2,\"ReadStall\":{\"Enable\":false,\"InitialReqTimeout\":20000000000,\"MaxReqTimeout\":1200000000000,\"MinReqTimeout\":1500000000,\"ReqIncreaseRate\":15,\"ReqTargetPercentile\":0.99}},\"ImplicitDirs\":true,\"List\":{\"EnableEmptyManagedFolders\":false},\"Logging\":{\"FilePath\":\"\",\"Format\":\"json\",\"LogRotate\":{\"BackupFileCount\":10,\"Compress\":true,\"MaxFileSizeMb\":512},\"Severity\":\"INFO\"},\"MetadataCache\":{\"DeprecatedStatCacheCapacity\":20460,\"DeprecatedStatCacheTtl\":60000000000,\"DeprecatedTypeCacheTtl\":60000000000,\"EnableNonexistentTypeCache\":false,\"ExperimentalMetadataPrefetchOnMount\":\"disabled\",\"NegativeTtlSecs\":5,\"StatCacheMaxSizeMb\":32,\"TtlSecs\":60,\"TypeCacheMaxSizeMb\":4},\"Metrics\":{\"CloudMetricsExportIntervalSecs\":0,\"EnableOtel\":false,\"PrometheusPort\":0,\"StackdriverExportInterval\":0},\"Monitoring\":{\"ExperimentalOpentelemetryCollectorAddress\":\"\",\"ExperimentalTracingMode\":\"\",\"ExperimentalTracingSamplingRatio\":0},\"OnlyDir\":\"\",\"Write\":{\"BlockSizeMb\":67108864,\"CreateEmptyFile\":false,\"EnableStreamingWrites\":false,\"GlobalMaxBlocks\":9223372036854775807,\"MaxBlocksPerFile\":9223372036854775807}}}\n",
            "{\"timestamp\":{\"seconds\":1737942154,\"nanos\":675567485},\"severity\":\"INFO\",\"message\":\"File system has been successfully mounted.\"}\n",
            "{\"timestamp\":{\"seconds\":1737942154,\"nanos\":890174116},\"severity\":\"INFO\",\"message\":\"Start gcsfuse/2.8.0 (Go version go1.23.4) for app \\\"\\\" using mount point: /mnt/gs/osa_processed-data\\n\"}\n",
            "{\"timestamp\":{\"seconds\":1737942154,\"nanos\":890230200},\"severity\":\"INFO\",\"message\":\"GCSFuse config\",\"config\":{\"AppName\":\"\",\"CacheDir\":\"\",\"Debug\":{\"ExitOnInvariantViolation\":false,\"Fuse\":false,\"Gcs\":false,\"LogMutex\":false},\"EnableAtomicRenameObject\":false,\"EnableHns\":true,\"FileCache\":{\"CacheFileForRangeRead\":false,\"DownloadChunkSizeMb\":50,\"EnableCrc\":false,\"EnableODirect\":false,\"EnableParallelDownloads\":false,\"MaxParallelDownloads\":16,\"MaxSizeMb\":-1,\"ParallelDownloadsPerFile\":16,\"WriteBufferSize\":4194304},\"FileSystem\":{\"DirMode\":\"755\",\"DisableParallelDirops\":false,\"FileMode\":\"644\",\"FuseOptions\":[],\"Gid\":-1,\"HandleSigterm\":true,\"IgnoreInterrupts\":true,\"KernelListCacheTtlSecs\":0,\"PreconditionErrors\":true,\"RenameDirLimit\":0,\"TempDir\":\"\",\"Uid\":-1},\"Foreground\":false,\"GcsAuth\":{\"AnonymousAccess\":false,\"KeyFile\":\"\",\"ReuseTokenFromUrl\":true,\"TokenUrl\":\"\"},\"GcsConnection\":{\"BillingProject\":\"\",\"ClientProtocol\":\"http1\",\"CustomEndpoint\":\"\",\"ExperimentalEnableJsonRead\":false,\"GrpcConnPoolSize\":1,\"HttpClientTimeout\":0,\"LimitBytesPerSec\":-1,\"LimitOpsPerSec\":-1,\"MaxConnsPerHost\":0,\"MaxIdleConnsPerHost\":100,\"SequentialReadSizeMb\":200},\"GcsRetries\":{\"ChunkTransferTimeoutSecs\":10,\"MaxRetryAttempts\":0,\"MaxRetrySleep\":30000000000,\"Multiplier\":2,\"ReadStall\":{\"Enable\":false,\"InitialReqTimeout\":20000000000,\"MaxReqTimeout\":1200000000000,\"MinReqTimeout\":1500000000,\"ReqIncreaseRate\":15,\"ReqTargetPercentile\":0.99}},\"ImplicitDirs\":true,\"List\":{\"EnableEmptyManagedFolders\":false},\"Logging\":{\"FilePath\":\"\",\"Format\":\"json\",\"LogRotate\":{\"BackupFileCount\":10,\"Compress\":true,\"MaxFileSizeMb\":512},\"Severity\":\"INFO\"},\"MetadataCache\":{\"DeprecatedStatCacheCapacity\":20460,\"DeprecatedStatCacheTtl\":60000000000,\"DeprecatedTypeCacheTtl\":60000000000,\"EnableNonexistentTypeCache\":false,\"ExperimentalMetadataPrefetchOnMount\":\"disabled\",\"NegativeTtlSecs\":5,\"StatCacheMaxSizeMb\":32,\"TtlSecs\":60,\"TypeCacheMaxSizeMb\":4},\"Metrics\":{\"CloudMetricsExportIntervalSecs\":0,\"EnableOtel\":false,\"PrometheusPort\":0,\"StackdriverExportInterval\":0},\"Monitoring\":{\"ExperimentalOpentelemetryCollectorAddress\":\"\",\"ExperimentalTracingMode\":\"\",\"ExperimentalTracingSamplingRatio\":0},\"OnlyDir\":\"\",\"Write\":{\"BlockSizeMb\":67108864,\"CreateEmptyFile\":false,\"EnableStreamingWrites\":false,\"GlobalMaxBlocks\":9223372036854775807,\"MaxBlocksPerFile\":9223372036854775807}}}\n",
            "{\"timestamp\":{\"seconds\":1737942156,\"nanos\":116261355},\"severity\":\"INFO\",\"message\":\"File system has been successfully mounted.\"}\n"
          ]
        }
      ]
    },
    {
      "cell_type": "code",
      "source": [
        "# Able to access Cloud Storage bucket like a local path.\n",
        "!ls /mnt/gs/osa_raw-data"
      ],
      "metadata": {
        "id": "6QPgw3Ed7qwi",
        "colab": {
          "base_uri": "https://localhost:8080/"
        },
        "outputId": "ce482ce8-a8ca-4251-f748-4f0f3ec5f8b1"
      },
      "execution_count": 4,
      "outputs": [
        {
          "output_type": "stream",
          "name": "stdout",
          "text": [
            "pid100100.csv  pid190043.csv  pid333895.csv  pid432730.csv  pid539974.csv    pid624071.csv\n",
            "pid100816.csv  pid199445.csv  pid334988.csv  pid439005.csv  pid542486-1.csv  pid627078.csv\n",
            "pid102234.csv  pid208588.csv  pid349751.csv  pid442085.csv  pid542486.csv    pid630354.csv\n",
            "pid103968.csv  pid215758.csv  pid350887.csv  pid445442.csv  pid543520.csv    pid631889.csv\n",
            "pid104303.csv  pid219965.csv  pid367205.csv  pid450461.csv  pid545303.csv    pid635643.csv\n",
            "pid107696.csv  pid224699.csv  pid369605.csv  pid450941.csv  pid555964.csv    pid637827.csv\n",
            "pid109326.csv  pid234620.csv  pid370916.csv  pid456686.csv  pid557778.csv    pid638244.csv\n",
            "pid109461.csv  pid248410.csv  pid383757.csv  pid457081.csv  pid561591.csv    pid639355.csv\n",
            "pid112894.csv  pid253204.csv  pid391110.csv  pid457271.csv  pid564533-1.csv  pid641102.csv\n",
            "pid119615.csv  pid261476.csv  pid391482.csv  pid464160.csv  pid564533.csv    pid641397.csv\n",
            "pid124294.csv  pid272598.csv  pid392875.csv  pid469641.csv  pid566153.csv    pid644133.csv\n",
            "pid141579.csv  pid283707.csv  pid393748.csv  pid478314.csv  pid569689.csv    pid649364.csv\n",
            "pid157100.csv  pid286719.csv  pid398076.csv  pid480595.csv  pid576468.csv    pid650939.csv\n",
            "pid161035.csv  pid286935.csv  pid401870.csv  pid481987.csv  pid577268.csv    pid655338.csv\n",
            "pid161457.csv  pid293192.csv  pid403691.csv  pid483219.csv  pid583200.csv    pid659360.csv\n",
            "pid166861.csv  pid300006.csv  pid408642.csv  pid485337.csv  pid586848.csv    pid674621.csv\n",
            "pid177975.csv  pid300579.csv  pid409386.csv  pid488469.csv  pid588157.csv    pid682732.csv\n",
            "pid178112.csv  pid310946.csv  pid412351.csv  pid492482.csv  pid592809.csv\n",
            "pid179590.csv  pid311262.csv  pid417827.csv  pid506461.csv  pid595815.csv\n",
            "pid182713.csv  pid317963.csv  pid422444.csv  pid527128.csv  pid605705.csv\n",
            "pid183019.csv  pid325534.csv  pid431521.csv  pid530441.csv  pid620035.csv\n",
            "pid185849.csv  pid327156.csv  pid432242.csv  pid537090.csv  pid621797.csv\n"
          ]
        }
      ]
    },
    {
      "cell_type": "markdown",
      "source": [
        "Processing and uploading result to Cloud Storage"
      ],
      "metadata": {
        "id": "00oBXwHi8zyh"
      }
    },
    {
      "cell_type": "code",
      "source": [
        "import pandas as pd\n",
        "\n",
        "df = pd.read_csv(\"/mnt/gs/osa_raw-data/pid100100.csv\")\n",
        "df.head()"
      ],
      "metadata": {
        "colab": {
          "base_uri": "https://localhost:8080/",
          "height": 240
        },
        "id": "1pRg9nIN87_S",
        "outputId": "aa89085a-a628-46c6-c7d9-944ce2758cad"
      },
      "execution_count": 5,
      "outputs": [
        {
          "output_type": "stream",
          "name": "stderr",
          "text": [
            "<ipython-input-5-1fe21fe99f3c>:3: DtypeWarning: Columns (2,3,4,5,6,7,9,10,11) have mixed types. Specify dtype option on import or set low_memory=False.\n",
            "  df = pd.read_csv(\"/mnt/gs/osa_raw-data/pid100100.csv\")\n"
          ]
        },
        {
          "output_type": "execute_result",
          "data": {
            "text/plain": [
              "   Time Stamp Sleep      Chin Position  SpO2  Nasal Pressure  Heart Rate   \\\n",
              "0          []    []       [V]       [?]   [%]         [cmH2O]       [bpm]   \n",
              "1  10:16:13:7   NaN  0.003285   -0.4269   NaN           4.327           0   \n",
              "2  10:16:13:8   NaN  0.003284   -0.4521   NaN           4.327           0   \n",
              "3  10:16:13:9   NaN   0.00328   -0.4598   NaN           4.321           0   \n",
              "4  10:16:14:0   NaN  0.003233    -0.498   NaN           4.268           0   \n",
              "\n",
              "      Snore  Event1 Event2 Event3 Event4  \n",
              "0    [cmH2O]    NaN    NaN    NaN    NaN  \n",
              "1  -0.003827    NaN    NaN    NaN    NaN  \n",
              "2  0.0005935    NaN    NaN    NaN    NaN  \n",
              "3  0.0006324    NaN    NaN    NaN    NaN  \n",
              "4  -0.001417    NaN    NaN    NaN    NaN  "
            ],
            "text/html": [
              "\n",
              "  <div id=\"df-864e25fe-c720-4ad8-a32f-d384d6cbc291\" class=\"colab-df-container\">\n",
              "    <div>\n",
              "<style scoped>\n",
              "    .dataframe tbody tr th:only-of-type {\n",
              "        vertical-align: middle;\n",
              "    }\n",
              "\n",
              "    .dataframe tbody tr th {\n",
              "        vertical-align: top;\n",
              "    }\n",
              "\n",
              "    .dataframe thead th {\n",
              "        text-align: right;\n",
              "    }\n",
              "</style>\n",
              "<table border=\"1\" class=\"dataframe\">\n",
              "  <thead>\n",
              "    <tr style=\"text-align: right;\">\n",
              "      <th></th>\n",
              "      <th>Time Stamp</th>\n",
              "      <th>Sleep</th>\n",
              "      <th>Chin</th>\n",
              "      <th>Position</th>\n",
              "      <th>SpO2</th>\n",
              "      <th>Nasal Pressure</th>\n",
              "      <th>Heart Rate</th>\n",
              "      <th>Snore</th>\n",
              "      <th>Event1</th>\n",
              "      <th>Event2</th>\n",
              "      <th>Event3</th>\n",
              "      <th>Event4</th>\n",
              "    </tr>\n",
              "  </thead>\n",
              "  <tbody>\n",
              "    <tr>\n",
              "      <th>0</th>\n",
              "      <td>[]</td>\n",
              "      <td>[]</td>\n",
              "      <td>[V]</td>\n",
              "      <td>[?]</td>\n",
              "      <td>[%]</td>\n",
              "      <td>[cmH2O]</td>\n",
              "      <td>[bpm]</td>\n",
              "      <td>[cmH2O]</td>\n",
              "      <td>NaN</td>\n",
              "      <td>NaN</td>\n",
              "      <td>NaN</td>\n",
              "      <td>NaN</td>\n",
              "    </tr>\n",
              "    <tr>\n",
              "      <th>1</th>\n",
              "      <td>10:16:13:7</td>\n",
              "      <td>NaN</td>\n",
              "      <td>0.003285</td>\n",
              "      <td>-0.4269</td>\n",
              "      <td>NaN</td>\n",
              "      <td>4.327</td>\n",
              "      <td>0</td>\n",
              "      <td>-0.003827</td>\n",
              "      <td>NaN</td>\n",
              "      <td>NaN</td>\n",
              "      <td>NaN</td>\n",
              "      <td>NaN</td>\n",
              "    </tr>\n",
              "    <tr>\n",
              "      <th>2</th>\n",
              "      <td>10:16:13:8</td>\n",
              "      <td>NaN</td>\n",
              "      <td>0.003284</td>\n",
              "      <td>-0.4521</td>\n",
              "      <td>NaN</td>\n",
              "      <td>4.327</td>\n",
              "      <td>0</td>\n",
              "      <td>0.0005935</td>\n",
              "      <td>NaN</td>\n",
              "      <td>NaN</td>\n",
              "      <td>NaN</td>\n",
              "      <td>NaN</td>\n",
              "    </tr>\n",
              "    <tr>\n",
              "      <th>3</th>\n",
              "      <td>10:16:13:9</td>\n",
              "      <td>NaN</td>\n",
              "      <td>0.00328</td>\n",
              "      <td>-0.4598</td>\n",
              "      <td>NaN</td>\n",
              "      <td>4.321</td>\n",
              "      <td>0</td>\n",
              "      <td>0.0006324</td>\n",
              "      <td>NaN</td>\n",
              "      <td>NaN</td>\n",
              "      <td>NaN</td>\n",
              "      <td>NaN</td>\n",
              "    </tr>\n",
              "    <tr>\n",
              "      <th>4</th>\n",
              "      <td>10:16:14:0</td>\n",
              "      <td>NaN</td>\n",
              "      <td>0.003233</td>\n",
              "      <td>-0.498</td>\n",
              "      <td>NaN</td>\n",
              "      <td>4.268</td>\n",
              "      <td>0</td>\n",
              "      <td>-0.001417</td>\n",
              "      <td>NaN</td>\n",
              "      <td>NaN</td>\n",
              "      <td>NaN</td>\n",
              "      <td>NaN</td>\n",
              "    </tr>\n",
              "  </tbody>\n",
              "</table>\n",
              "</div>\n",
              "    <div class=\"colab-df-buttons\">\n",
              "\n",
              "  <div class=\"colab-df-container\">\n",
              "    <button class=\"colab-df-convert\" onclick=\"convertToInteractive('df-864e25fe-c720-4ad8-a32f-d384d6cbc291')\"\n",
              "            title=\"Convert this dataframe to an interactive table.\"\n",
              "            style=\"display:none;\">\n",
              "\n",
              "  <svg xmlns=\"http://www.w3.org/2000/svg\" height=\"24px\" viewBox=\"0 -960 960 960\">\n",
              "    <path d=\"M120-120v-720h720v720H120Zm60-500h600v-160H180v160Zm220 220h160v-160H400v160Zm0 220h160v-160H400v160ZM180-400h160v-160H180v160Zm440 0h160v-160H620v160ZM180-180h160v-160H180v160Zm440 0h160v-160H620v160Z\"/>\n",
              "  </svg>\n",
              "    </button>\n",
              "\n",
              "  <style>\n",
              "    .colab-df-container {\n",
              "      display:flex;\n",
              "      gap: 12px;\n",
              "    }\n",
              "\n",
              "    .colab-df-convert {\n",
              "      background-color: #E8F0FE;\n",
              "      border: none;\n",
              "      border-radius: 50%;\n",
              "      cursor: pointer;\n",
              "      display: none;\n",
              "      fill: #1967D2;\n",
              "      height: 32px;\n",
              "      padding: 0 0 0 0;\n",
              "      width: 32px;\n",
              "    }\n",
              "\n",
              "    .colab-df-convert:hover {\n",
              "      background-color: #E2EBFA;\n",
              "      box-shadow: 0px 1px 2px rgba(60, 64, 67, 0.3), 0px 1px 3px 1px rgba(60, 64, 67, 0.15);\n",
              "      fill: #174EA6;\n",
              "    }\n",
              "\n",
              "    .colab-df-buttons div {\n",
              "      margin-bottom: 4px;\n",
              "    }\n",
              "\n",
              "    [theme=dark] .colab-df-convert {\n",
              "      background-color: #3B4455;\n",
              "      fill: #D2E3FC;\n",
              "    }\n",
              "\n",
              "    [theme=dark] .colab-df-convert:hover {\n",
              "      background-color: #434B5C;\n",
              "      box-shadow: 0px 1px 3px 1px rgba(0, 0, 0, 0.15);\n",
              "      filter: drop-shadow(0px 1px 2px rgba(0, 0, 0, 0.3));\n",
              "      fill: #FFFFFF;\n",
              "    }\n",
              "  </style>\n",
              "\n",
              "    <script>\n",
              "      const buttonEl =\n",
              "        document.querySelector('#df-864e25fe-c720-4ad8-a32f-d384d6cbc291 button.colab-df-convert');\n",
              "      buttonEl.style.display =\n",
              "        google.colab.kernel.accessAllowed ? 'block' : 'none';\n",
              "\n",
              "      async function convertToInteractive(key) {\n",
              "        const element = document.querySelector('#df-864e25fe-c720-4ad8-a32f-d384d6cbc291');\n",
              "        const dataTable =\n",
              "          await google.colab.kernel.invokeFunction('convertToInteractive',\n",
              "                                                    [key], {});\n",
              "        if (!dataTable) return;\n",
              "\n",
              "        const docLinkHtml = 'Like what you see? Visit the ' +\n",
              "          '<a target=\"_blank\" href=https://colab.research.google.com/notebooks/data_table.ipynb>data table notebook</a>'\n",
              "          + ' to learn more about interactive tables.';\n",
              "        element.innerHTML = '';\n",
              "        dataTable['output_type'] = 'display_data';\n",
              "        await google.colab.output.renderOutput(dataTable, element);\n",
              "        const docLink = document.createElement('div');\n",
              "        docLink.innerHTML = docLinkHtml;\n",
              "        element.appendChild(docLink);\n",
              "      }\n",
              "    </script>\n",
              "  </div>\n",
              "\n",
              "\n",
              "<div id=\"df-1103a083-88ae-4c8e-b90b-daa35d8eb223\">\n",
              "  <button class=\"colab-df-quickchart\" onclick=\"quickchart('df-1103a083-88ae-4c8e-b90b-daa35d8eb223')\"\n",
              "            title=\"Suggest charts\"\n",
              "            style=\"display:none;\">\n",
              "\n",
              "<svg xmlns=\"http://www.w3.org/2000/svg\" height=\"24px\"viewBox=\"0 0 24 24\"\n",
              "     width=\"24px\">\n",
              "    <g>\n",
              "        <path d=\"M19 3H5c-1.1 0-2 .9-2 2v14c0 1.1.9 2 2 2h14c1.1 0 2-.9 2-2V5c0-1.1-.9-2-2-2zM9 17H7v-7h2v7zm4 0h-2V7h2v10zm4 0h-2v-4h2v4z\"/>\n",
              "    </g>\n",
              "</svg>\n",
              "  </button>\n",
              "\n",
              "<style>\n",
              "  .colab-df-quickchart {\n",
              "      --bg-color: #E8F0FE;\n",
              "      --fill-color: #1967D2;\n",
              "      --hover-bg-color: #E2EBFA;\n",
              "      --hover-fill-color: #174EA6;\n",
              "      --disabled-fill-color: #AAA;\n",
              "      --disabled-bg-color: #DDD;\n",
              "  }\n",
              "\n",
              "  [theme=dark] .colab-df-quickchart {\n",
              "      --bg-color: #3B4455;\n",
              "      --fill-color: #D2E3FC;\n",
              "      --hover-bg-color: #434B5C;\n",
              "      --hover-fill-color: #FFFFFF;\n",
              "      --disabled-bg-color: #3B4455;\n",
              "      --disabled-fill-color: #666;\n",
              "  }\n",
              "\n",
              "  .colab-df-quickchart {\n",
              "    background-color: var(--bg-color);\n",
              "    border: none;\n",
              "    border-radius: 50%;\n",
              "    cursor: pointer;\n",
              "    display: none;\n",
              "    fill: var(--fill-color);\n",
              "    height: 32px;\n",
              "    padding: 0;\n",
              "    width: 32px;\n",
              "  }\n",
              "\n",
              "  .colab-df-quickchart:hover {\n",
              "    background-color: var(--hover-bg-color);\n",
              "    box-shadow: 0 1px 2px rgba(60, 64, 67, 0.3), 0 1px 3px 1px rgba(60, 64, 67, 0.15);\n",
              "    fill: var(--button-hover-fill-color);\n",
              "  }\n",
              "\n",
              "  .colab-df-quickchart-complete:disabled,\n",
              "  .colab-df-quickchart-complete:disabled:hover {\n",
              "    background-color: var(--disabled-bg-color);\n",
              "    fill: var(--disabled-fill-color);\n",
              "    box-shadow: none;\n",
              "  }\n",
              "\n",
              "  .colab-df-spinner {\n",
              "    border: 2px solid var(--fill-color);\n",
              "    border-color: transparent;\n",
              "    border-bottom-color: var(--fill-color);\n",
              "    animation:\n",
              "      spin 1s steps(1) infinite;\n",
              "  }\n",
              "\n",
              "  @keyframes spin {\n",
              "    0% {\n",
              "      border-color: transparent;\n",
              "      border-bottom-color: var(--fill-color);\n",
              "      border-left-color: var(--fill-color);\n",
              "    }\n",
              "    20% {\n",
              "      border-color: transparent;\n",
              "      border-left-color: var(--fill-color);\n",
              "      border-top-color: var(--fill-color);\n",
              "    }\n",
              "    30% {\n",
              "      border-color: transparent;\n",
              "      border-left-color: var(--fill-color);\n",
              "      border-top-color: var(--fill-color);\n",
              "      border-right-color: var(--fill-color);\n",
              "    }\n",
              "    40% {\n",
              "      border-color: transparent;\n",
              "      border-right-color: var(--fill-color);\n",
              "      border-top-color: var(--fill-color);\n",
              "    }\n",
              "    60% {\n",
              "      border-color: transparent;\n",
              "      border-right-color: var(--fill-color);\n",
              "    }\n",
              "    80% {\n",
              "      border-color: transparent;\n",
              "      border-right-color: var(--fill-color);\n",
              "      border-bottom-color: var(--fill-color);\n",
              "    }\n",
              "    90% {\n",
              "      border-color: transparent;\n",
              "      border-bottom-color: var(--fill-color);\n",
              "    }\n",
              "  }\n",
              "</style>\n",
              "\n",
              "  <script>\n",
              "    async function quickchart(key) {\n",
              "      const quickchartButtonEl =\n",
              "        document.querySelector('#' + key + ' button');\n",
              "      quickchartButtonEl.disabled = true;  // To prevent multiple clicks.\n",
              "      quickchartButtonEl.classList.add('colab-df-spinner');\n",
              "      try {\n",
              "        const charts = await google.colab.kernel.invokeFunction(\n",
              "            'suggestCharts', [key], {});\n",
              "      } catch (error) {\n",
              "        console.error('Error during call to suggestCharts:', error);\n",
              "      }\n",
              "      quickchartButtonEl.classList.remove('colab-df-spinner');\n",
              "      quickchartButtonEl.classList.add('colab-df-quickchart-complete');\n",
              "    }\n",
              "    (() => {\n",
              "      let quickchartButtonEl =\n",
              "        document.querySelector('#df-1103a083-88ae-4c8e-b90b-daa35d8eb223 button');\n",
              "      quickchartButtonEl.style.display =\n",
              "        google.colab.kernel.accessAllowed ? 'block' : 'none';\n",
              "    })();\n",
              "  </script>\n",
              "</div>\n",
              "\n",
              "    </div>\n",
              "  </div>\n"
            ],
            "application/vnd.google.colaboratory.intrinsic+json": {
              "type": "dataframe",
              "variable_name": "df"
            }
          },
          "metadata": {},
          "execution_count": 5
        }
      ]
    },
    {
      "cell_type": "code",
      "source": [
        "processed_df = df.head()\n",
        "processed_df.to_csv(\"/mnt/gs/osa_processed-data/sample.csv\", index=False)"
      ],
      "metadata": {
        "id": "qBwB_fq49j21"
      },
      "execution_count": 6,
      "outputs": []
    },
    {
      "cell_type": "code",
      "source": [
        "# Check if processed file correctly uploaded to Cloud Storage\n",
        "!ls /mnt/gs/osa_processed-data"
      ],
      "metadata": {
        "colab": {
          "base_uri": "https://localhost:8080/"
        },
        "id": "yZayxilqaEwZ",
        "outputId": "1ca51bb8-a16d-4911-8db8-dc0159d8614f"
      },
      "execution_count": 7,
      "outputs": [
        {
          "output_type": "stream",
          "name": "stdout",
          "text": [
            "patient-data-1_00.dta  sample.csv\n"
          ]
        }
      ]
    },
    {
      "cell_type": "markdown",
      "source": [
        "References\n",
        "\n",
        "\n",
        "* [Google Cloud Storage FUSE & colab integration](https://colab.research.google.com/notebooks/snippets/gcs.ipynb#scrollTo=ZWpIqYjsBJFn)\n",
        "* [Local file, Drive, Cloud Storage colab integration](https://colab.research.google.com/notebooks/io.ipynb#scrollTo=S7c8WYyQdh5i)"
      ],
      "metadata": {
        "id": "YTPn8lN3xdEH"
      }
    }
  ]
}